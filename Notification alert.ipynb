{
 "cells": [
  {
   "cell_type": "code",
   "execution_count": null,
   "id": "0653c5df",
   "metadata": {},
   "outputs": [],
   "source": [
    "#installing appropriate library\n",
    "pip install plyer"
   ]
  },
  {
   "cell_type": "code",
   "execution_count": 12,
   "id": "24c61f67",
   "metadata": {},
   "outputs": [
    {
     "data": {
      "text/plain": [
       "'time.sleep(6)\\ntime.sleep(60*60)'"
      ]
     },
     "execution_count": 12,
     "metadata": {},
     "output_type": "execute_result"
    }
   ],
   "source": [
    "import time\n",
    "import random\n",
    "from plyer import notification\n",
    "\n",
    "#setting up the msgs\n",
    "list1=['It boosts skin health and beauty',\n",
    "      'It cushions the brain, spinal cord, and other sensitive tissues',\n",
    "      'It regulates body temperature',\n",
    "      'The digestive system depends on it',\n",
    "      'It helps maintain blood pressure',\n",
    "      'It makes minerals and nutrients accessible',\n",
    "      'It prevents kidney damage',\n",
    "      'It boosts performance during exercise']\n",
    "\n",
    "#finding out the random msg from list\n",
    "water=random.choice(list1)\n",
    "\n",
    "#main logic \n",
    "\n",
    "#notification.notify gives the notification\n",
    "while true:\n",
    "notification.notify(\n",
    "    title = \"**Please Drink Water Now!!\",\n",
    "    message = \"Drink water because \" + water,\n",
    "    app_icon = \"C:\\\\Users\\\\prashik\\\\Desktop\\\\New folder\\\\Kratin\\\\python\\\\waterglass.ico\",\n",
    "    timeout= 6\n",
    "    )\n",
    "\n",
    "    #time.sleep(6) --- for the 6 sec after \n",
    "    \n",
    "    #after an hour notification will pop up\n",
    "    time.sleep(60*60)\n",
    "    print(\"sucessfull\")"
   ]
  },
  {
   "cell_type": "code",
   "execution_count": null,
   "id": "389fb03d",
   "metadata": {},
   "outputs": [],
   "source": []
  }
 ],
 "metadata": {
  "kernelspec": {
   "display_name": "Python 3",
   "language": "python",
   "name": "python3"
  },
  "language_info": {
   "codemirror_mode": {
    "name": "ipython",
    "version": 3
   },
   "file_extension": ".py",
   "mimetype": "text/x-python",
   "name": "python",
   "nbconvert_exporter": "python",
   "pygments_lexer": "ipython3",
   "version": "3.8.8"
  }
 },
 "nbformat": 4,
 "nbformat_minor": 5
}
