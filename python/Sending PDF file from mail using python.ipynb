{
 "cells": [
  {
   "cell_type": "code",
   "execution_count": 14,
   "id": "42187148",
   "metadata": {},
   "outputs": [
    {
     "name": "stdout",
     "output_type": "stream",
     "text": [
      "email sent on -  2021-11-29 22:09:43.121054\n"
     ]
    }
   ],
   "source": [
    "#importing necessary libraries\n",
    "import os\n",
    "import time\n",
    "import schedule\n",
    "import smtplib\n",
    "import datetime\n",
    "import mimetypes\n",
    "from email.message import EmailMessage\n",
    "\n",
    "#creating EmailMessage instance\n",
    "msg=EmailMessage() \n",
    "\n",
    "#setting up the subject of a mail, from the mail is being sent and to whome will be getting an email.\n",
    "msg['Subject']='Health Newsletter From Kratin'\n",
    "msg['From']='dummyprashik@gmail.com'\n",
    "msg['to']='prashikkhobragade999@gmail.com'\n",
    "msg.set_content(\"As per your request these are the task from your personal health mentor \\nPlease find attached PDF\")\n",
    "\n",
    "#opening the pdf file\n",
    "with open(\"C:\\\\Users\\\\prashik\\\\Desktop\\\\New folder\\\\Kratin\\\\python\\\\first_week_second_pdf.pdf\",\"rb\") as f:\n",
    "    file_data=f.read()\n",
    "    file_name=f.name\n",
    "    \n",
    "    #attaching the file to the mail\n",
    "    msg.add_attachment(file_data,maintype=\"application\",subtype=\"pdf\",filename=file_name)\n",
    "\n",
    "#using the smtp protocol logging into the gmail account\n",
    "with smtplib.SMTP_SSL('smtp.gmail.com',465) as server :\n",
    "    server.login(\"dummyprashik@gmail.com\",\"notstrongpass123\")\n",
    "    \n",
    "    #sending the email\n",
    "    server.send_message(msg)\n",
    "\n",
    "#getting the local date time for acknowledgement and log\n",
    "local_time_date = datetime.datetime.now()\n",
    "print(\"email sent on - \",local_time_date)\n"
   ]
  },
  {
   "cell_type": "code",
   "execution_count": null,
   "id": "420be89e",
   "metadata": {},
   "outputs": [],
   "source": []
  }
 ],
 "metadata": {
  "kernelspec": {
   "display_name": "Python 3",
   "language": "python",
   "name": "python3"
  },
  "language_info": {
   "codemirror_mode": {
    "name": "ipython",
    "version": 3
   },
   "file_extension": ".py",
   "mimetype": "text/x-python",
   "name": "python",
   "nbconvert_exporter": "python",
   "pygments_lexer": "ipython3",
   "version": "3.8.8"
  }
 },
 "nbformat": 4,
 "nbformat_minor": 5
}
